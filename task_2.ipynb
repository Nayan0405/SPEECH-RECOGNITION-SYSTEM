{
  "nbformat": 4,
  "nbformat_minor": 0,
  "metadata": {
    "colab": {
      "provenance": []
    },
    "kernelspec": {
      "name": "python3",
      "display_name": "Python 3"
    },
    "language_info": {
      "name": "python"
    }
  },
  "cells": [
    {
      "cell_type": "code",
      "execution_count": null,
      "metadata": {
        "id": "qhzk_WZjfWBy"
      },
      "outputs": [],
      "source": []
    },
    {
      "cell_type": "code",
      "metadata": {
        "colab": {
          "base_uri": "https://localhost:8080/"
        },
        "id": "43bfe428",
        "outputId": "e44f8a6e-0208-4071-b3a2-5f0f04a24a48"
      },
      "source": [
        "# Install necessary libraries\n",
        "!pip install SpeechRecognition pydub\n",
        "\n",
        "# Import necessary libraries\n",
        "import speech_recognition as sr\n",
        "from pydub import AudioSegment\n",
        "import os # Import the os module\n",
        "\n",
        "# Load the audio file (replace 'your_audio_file.wav' with the actual file path)\n",
        "# You might need to convert your audio file to a supported format like WAV\n",
        "# Example: Convert MP3 to WAV using pydub\n",
        "# audio = AudioSegment.from_mp3(\"your_audio_file.mp3\")\n",
        "# audio.export(\"your_audio_file.wav\", format=\"wav\")\n",
        "\n",
        "# Replace 'your_audio_file.wav' with the actual file path of your audio file.\n",
        "# If the file is on your local machine, you can upload it to Colab\n",
        "# by clicking on the folder icon on the left sidebar, then clicking the upload icon.\n",
        "audio_file = \"your_audio_file.wav\"\n",
        "\n",
        "# Check if the file exists before proceeding\n",
        "if not os.path.exists(audio_file):\n",
        "    print(f\"Error: The audio file '{audio_file}' was not found.\")\n",
        "else:\n",
        "    # Initialize the speech recognition model\n",
        "    r = sr.Recognizer()\n",
        "\n",
        "    # Transcribe the audio\n",
        "    with sr.AudioFile(audio_file) as source:\n",
        "        audio = r.record(source)  # read the entire audio file\n",
        "\n",
        "        try:\n",
        "            # Use Google Web Speech API for transcription\n",
        "            text = r.recognize_google(audio)\n",
        "            print(\"Transcription: \" + text)\n",
        "        except sr.UnknownValueError:\n",
        "            print(\"Speech Recognition could not understand audio\")\n",
        "        except sr.RequestError as e:\n",
        "            print(\"Could not request results from Speech Recognition service; {0}\".format(e))"
      ],
      "execution_count": null,
      "outputs": [
        {
          "output_type": "stream",
          "name": "stdout",
          "text": [
            "Requirement already satisfied: SpeechRecognition in /usr/local/lib/python3.11/dist-packages (3.14.3)\n",
            "Requirement already satisfied: pydub in /usr/local/lib/python3.11/dist-packages (0.25.1)\n",
            "Requirement already satisfied: typing-extensions in /usr/local/lib/python3.11/dist-packages (from SpeechRecognition) (4.14.1)\n",
            "Transcription: hi this is a new text that is supposed to run and recognize the speech and then translate to text as the output\n"
          ]
        }
      ]
    }
  ]
}